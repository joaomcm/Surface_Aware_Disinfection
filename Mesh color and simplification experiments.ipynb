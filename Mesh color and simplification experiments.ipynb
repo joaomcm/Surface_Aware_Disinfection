{
 "cells": [
  {
   "cell_type": "markdown",
   "id": "1ccbe29e",
   "metadata": {},
   "source": [
    "# Evaluation Code"
   ]
  },
  {
   "cell_type": "code",
   "execution_count": null,
   "id": "235f9ae5",
   "metadata": {},
   "outputs": [],
   "source": [
    "import pandas as pd\n",
    "from visibility import Visibility\n",
    "from glob import glob\n",
    "import trimesh as tm\n",
    "import pickle\n",
    "import os\n",
    "import numpy as np\n",
    "from scipy.sparse import lil_matrix\n",
    "from tqdm import tqdm\n",
    "\n",
    "mesh_base_dir = '/home/motion/Surface_Aware_Disinfection/data/aug_10_entire_val_ade20kmodel_vanilla_prob_weighting/estimated_scannet_val'\n",
    "code_base_dir = os.getcwd()\n",
    "\n",
    "def get_irradiance_matrix(vis_tester,sampling_places):\n",
    "    total_faces = vis_tester.mesh.mesh.faces.shape[0]\n",
    "    irradiance_matrix = lil_matrix((sampling_places.shape[0],total_faces))\n",
    "    for i in range(sampling_places.shape[0]):\n",
    "        _,irradiance = vis_tester.render(id0 =None,id1 = None,pos = sampling_places[i,:].tolist())\n",
    "        irradiance = irradiance\n",
    "        irradiance_matrix[i,np.where(irradiance > 0)] = irradiance[irradiance > 0]\n",
    "\n",
    "    return irradiance_matrix.tocsr()\n",
    "\n",
    "def evaluate_semantic_disinfection_performance(roadmap,robot):\n",
    "    mesh_name = roadmap.split('/')[-4]\n",
    "    # we then load the mesh original mesh and its ground truth:\n",
    "    mesh_gt_file = os.path.join(mesh_base_dir, 'gt_{}.ply'.format(mesh_name))\n",
    "    ground_truth_visibility = Visibility(mesh_gt_file,res = 512, useShader = True,createWnd = True)\n",
    "    main_dir = os.path.dirname(roadmap)\n",
    "    reachable_file = os.path.join(main_dir,'{}_reachable_330_divs.p'.format(robot))\n",
    "    solutions_file = os.path.join(main_dir,'{}_solutions_330_divs.p'.format(robot))\n",
    "    sampling_places_file = os.path.join(main_dir,'{}_sampling_places_330_divs.p'.format(robot))\n",
    "\n",
    "    reachable = pickle.load(open(reachable_file,'rb'))\n",
    "    solutions = np.array(pickle.load(open(solutions_file,'rb'))[0])\n",
    "    sampling_places = pickle.load(open(sampling_places_file,'rb'))\n",
    "\n",
    "    selected_points = sampling_places[reachable,:][solutions>0,:]\n",
    "    irradiance_matrix = get_irradiance_matrix(ground_truth_visibility,selected_points)\n",
    "\n",
    "    gt_mesh = ground_truth_visibility.mesh.mesh\n",
    "    final_irradiances = (80*solutions[solutions>0].reshape(1,-1)@irradiance_matrix).flatten()\n",
    "    areas = gt_mesh.area_faces\n",
    "    colors = gt_mesh.visual.face_colors\n",
    "    label = colors[:,0] >= 255\n",
    "    disinfected = final_irradiances > 280\n",
    "    total_ht_area = np.sum(areas[label])\n",
    "    total_lt_area = np.sum(areas[~label])\n",
    "    total_area = np.sum(areas)\n",
    "    disinfected_ht_area = np.sum(areas[label][disinfected[label]])\n",
    "    disinfected_lt_area = np.sum(areas[~label][disinfected[~label]])\n",
    "    disinfected_area = np.sum(areas[disinfected])\n",
    "    ht_area_fraction = total_ht_area/total_area\n",
    "    return mesh_name,total_area,ht_area_fraction,disinfected_ht_area/total_ht_area,disinfected_area/total_area,disinfected_lt_area/total_lt_area\n"
   ]
  },
  {
   "cell_type": "code",
   "execution_count": null,
   "id": "f2c22e5d",
   "metadata": {},
   "outputs": [],
   "source": [
    "robot = 'floatbot'\n",
    "\n",
    "roadmaps = sorted(glob('./3D_results/Semantic/*/*/{}/{}_roadmap_330_divs.p'.format(robot,robot)))\n",
    "mesh_names = []\n",
    "experiments = []\n",
    "durations = []\n",
    "total_areas = []\n",
    "ht_area_fractions = []\n",
    "ht_disinfected_fraction = []\n",
    "lt_disinfected_fraction = []\n",
    "total_disinfected_fraction = []\n",
    "robots = []\n",
    "old_mesh = ''\n",
    "for rm in tqdm(roadmaps):\n",
    "    experiment = rm.split('/')[-3]\n",
    "    duration = experiment.split('_')[-2]\n",
    "    experiments.append(experiment)\n",
    "    durations.append(duration)\n",
    "    results = evaluate_semantic_disinfection_performance(rm,robot)\n",
    "    mesh_names.append(results[0])\n",
    "    total_areas.append(results[1])\n",
    "    ht_area_fractions.append(results[2])\n",
    "    ht_disinfected_fraction.append(results[3])\n",
    "    total_disinfected_fraction.append(results[4])\n",
    "    lt_disinfected_fraction.append(results[5])\n",
    "    robots.append(robot)\n",
    "results_df = pd.DataFrame({'robot':robot,'mesh_name':mesh_names,'experiment':experiments,'duration':durations,'room area':total_areas,\n",
    "                          'ht_area_fraction':ht_area_fractions,'ht_disinfected_fraction':ht_disinfected_fraction,'lt_disinfected_fraction':lt_disinfected_fraction,'total_disinfected_fraction':total_disinfected_fraction})"
   ]
  },
  {
   "cell_type": "code",
   "execution_count": null,
   "id": "bf7c7f4e",
   "metadata": {},
   "outputs": [],
   "source": [
    "results_df.to_csv('./Semantic_results_large_rooms_2.csv',sep = '|')"
   ]
  },
  {
   "cell_type": "code",
   "execution_count": null,
   "id": "d7cf9fb2",
   "metadata": {},
   "outputs": [],
   "source": [
    "results_df"
   ]
  },
  {
   "cell_type": "code",
   "execution_count": null,
   "id": "0dcf81bc",
   "metadata": {
    "scrolled": true
   },
   "outputs": [],
   "source": [
    "results_df.loc[results_df.mesh_name == 'scene0011_00']"
   ]
  },
  {
   "cell_type": "code",
   "execution_count": null,
   "id": "b5d20cc4",
   "metadata": {},
   "outputs": [],
   "source": [
    "### import pandas as pd\n",
    "import matplotlib.pyplot as plt\n",
    "import pandas as pd\n",
    "\n",
    "\n",
    "def add_agnostic_fractions_column(this_df):\n",
    "\n",
    "    agnostic_fractions = []\n",
    "    for i in range(this_df.shape[0]):\n",
    "        row = this_df.iloc[i,:]\n",
    "        duration = row.duration\n",
    "        mesh_name = row.mesh_name\n",
    "        agnostic_row = this_df[np.logical_and(this_df.experiment_names.str.startswith('surface'),np.logical_and(this_df.mesh_name ==mesh_name,this_df.duration == duration))]\n",
    "        if(agnostic_row.empty):\n",
    "            agnostic_fractions.append(None)\n",
    "        else:\n",
    "            agnostic_fractions.append(agnostic_row.ht_disinfected_fraction.values[0])\n",
    "    this_df['agnostic_ht_fraction'] = agnostic_fractions\n",
    "    return this_df\n",
    "\n",
    "\n",
    "df = pd.read_csv('././Semantic_results_large_rooms.csv',sep = '|')\n",
    "\n",
    "tmp = df.experiment.str.split('_',expand = True)\n",
    "names = tmp.loc[:,0] + '_' + tmp.loc[:,1]\n",
    "names[names.str.startswith('hard')] += '_' + tmp.loc[names.str.startswith('hard'),2]\n",
    "df['experiment_names'] = names\n",
    "\n",
    "df = add_agnostic_fractions_column(df)"
   ]
  },
  {
   "cell_type": "markdown",
   "id": "f5c52d8b",
   "metadata": {},
   "source": [
    "# Uplift Plots"
   ]
  },
  {
   "cell_type": "code",
   "execution_count": null,
   "id": "77b8421f",
   "metadata": {
    "scrolled": true
   },
   "outputs": [],
   "source": [
    "df2 = df[df.duration.str.isnumeric()]\n",
    "max_disinf = df.groupby(['mesh_name']).ht_disinfected_fraction.max()\n",
    "df2.duration = df2.duration.astype(float)\n",
    "for tmp in df2.groupby('mesh_name'):\n",
    "    room_name = tmp[0]\n",
    "    max_disinfection = max_disinf[room_name]\n",
    "    title = 'HT-Uplift from Surface Agnostic {}'.format(tmp[0])\n",
    "    plt.title(title)\n",
    "    tmp = tmp[1]\n",
    "    \n",
    "    for tmp2 in tmp.groupby('experiment_names'):\n",
    "        name = tmp2[0]\n",
    "        tmp2 = tmp2[1]\n",
    "        plt.scatter(y = ((tmp2.ht_disinfected_fraction-tmp2.agnostic_ht_fraction)/max_disinfection),x = tmp2.duration,label = name)\n",
    "    plt.legend(loc = 4)\n",
    "    plt.xlabel('ETime Budget (min)')\n",
    "    plt.ylabel('HT fraction uplift from agnostic (n.d.)')\n",
    "    plt.ylim([0.0,0.3])\n",
    "    plt.savefig('./media/semantic_results/{}.jpg'.format(title))\n",
    "    plt.show()"
   ]
  },
  {
   "cell_type": "markdown",
   "id": "aba5682a",
   "metadata": {},
   "source": [
    "# HT_fraction plots"
   ]
  },
  {
   "cell_type": "code",
   "execution_count": null,
   "id": "fa24a779",
   "metadata": {},
   "outputs": [],
   "source": [
    "df2 = df[df.duration.str.isnumeric()]\n",
    "max_disinf = df.groupby(['mesh_name']).ht_disinfected_fraction.max()\n",
    "df2.duration = df2.duration.astype(float)\n",
    "for tmp in df2.groupby('mesh_name'):\n",
    "    room_name = tmp[0]\n",
    "    max_disinfection = max_disinf[room_name]\n",
    "    title = 'Disinfected HT Fraction vs Time Budget {}'.format(tmp[0])\n",
    "    plt.title(title)\n",
    "    tmp = tmp[1]\n",
    "    \n",
    "    for tmp2 in tmp.groupby('experiment_names'):\n",
    "        name = tmp2[0]\n",
    "        tmp2 = tmp2[1]\n",
    "        plt.scatter(y = ((tmp2.ht_disinfected_fraction)/max_disinfection),x = tmp2.duration,label = name)\n",
    "    plt.legend(loc = 4)\n",
    "    plt.xlabel('Time Budget(min)')\n",
    "    plt.ylabel('HT disinfection fraction (n.d.)')\n",
    "    plt.ylim([0.0,1.2])\n",
    "    plt.savefig('./media/semantic_results/{}.jpg'.format(title))\n",
    "    plt.show()"
   ]
  },
  {
   "cell_type": "markdown",
   "id": "a2b73d7a",
   "metadata": {},
   "source": [
    "# Total Disinfection Fractions"
   ]
  },
  {
   "cell_type": "code",
   "execution_count": null,
   "id": "692b36ee",
   "metadata": {
    "scrolled": false
   },
   "outputs": [],
   "source": [
    "df2 = df[df.duration.str.isnumeric()]\n",
    "max_disinf = df.groupby(['mesh_name']).ht_disinfected_fraction.max()\n",
    "df2.duration = df2.duration.astype(float)\n",
    "for tmp in df2.groupby('mesh_name'):\n",
    "    room_name = tmp[0]\n",
    "    max_disinfection = max_disinf[room_name]\n",
    "    title = 'Disinfected Total Fraction vs Time Budget {}'.format(tmp[0])\n",
    "    plt.title(title)\n",
    "    tmp = tmp[1]\n",
    "    \n",
    "    for tmp2 in tmp.groupby('experiment_names'):\n",
    "        name = tmp2[0]\n",
    "        tmp2 = tmp2[1]\n",
    "        plt.scatter(y = ((tmp2.total_disinfected_fraction)/max_disinfection),x = tmp2.duration,label = name)\n",
    "    plt.legend(loc = 4)\n",
    "    plt.xlabel('Time Budget(min)')\n",
    "    plt.ylabel('total disinfection fraction (n.d.)')\n",
    "    plt.ylim([0.0,1.2])\n",
    "    plt.savefig('./media/semantic_results/{}.jpg'.format(title))\n",
    "    plt.show()"
   ]
  },
  {
   "cell_type": "code",
   "execution_count": null,
   "id": "9840254e",
   "metadata": {},
   "outputs": [],
   "source": []
  },
  {
   "cell_type": "code",
   "execution_count": null,
   "id": "ceb9ff4c",
   "metadata": {},
   "outputs": [],
   "source": []
  },
  {
   "cell_type": "code",
   "execution_count": null,
   "id": "8d2b0cda",
   "metadata": {},
   "outputs": [],
   "source": [
    "import pandas as pd\n",
    "import matplotlib.pyplot as plt\n",
    "\n",
    "df = pd.read_csv('./Semantic_results.csv',sep = '|')\n",
    "\n",
    "tmp = df.experiment.str.split('_',expand = True)\n",
    "names = tmp.loc[:,0] + '_' + tmp.loc[:,1]\n",
    "names[names.str.startswith('hard')] += '_' + tmp.loc[names.str.startswith('hard'),2]\n",
    "df['experiment_names'] = names\n",
    "\n",
    "df2 = df[df.duration < 100]\n",
    "max_disinf = df2.groupby(['mesh_name']).total_disinfected_fraction.max()\n",
    "\n",
    "for tmp in df2.groupby('mesh_name'):\n",
    "    room_name = tmp[0]\n",
    "    max_disinfection = max_disinf[room_name]\n",
    "    title = 'Normalized GT disinfected fraction {}'.format(tmp[0])\n",
    "    plt.title(title)\n",
    "    tmp = tmp[1]\n",
    "    for tmp2 in tmp.groupby('experiment_names'):\n",
    "        name = tmp2[0]\n",
    "        tmp2 = tmp2[1]\n",
    "        plt.scatter(y = (tmp2.ht_disinfected_fraction/max_disinfection),x = tmp2.duration,label = name)\n",
    "    plt.legend()\n",
    "    plt.xlabel('Experiment Duration (min)')\n",
    "    plt.ylabel('total_fraction \\nasymptotic (n.d.)')\n",
    "    plt.ylim([0,1.2])\n",
    "    plt.savefig('./media/semantic_results/{}.pdf'.format(title))\n",
    "    plt.show()"
   ]
  },
  {
   "cell_type": "code",
   "execution_count": null,
   "id": "61950254",
   "metadata": {},
   "outputs": [],
   "source": [
    "\n",
    "for tmp in df2.groupby('mesh_name'):\n",
    "    room_name = tmp[0]\n",
    "    max_disinfection = max_disinf[room_name]\n",
    "    title = 'HT uplift vs experiment duration {}'.format(tmp[0])\n",
    "    plt.title(title)\n",
    "    tmp = tmp[1]\n",
    "    for tmp2 in tmp.groupby('experiment_names'):\n",
    "        name = tmp2[0]\n",
    "        tmp2 = tmp2[1]\n",
    "        plt.scatter(y = (tmp2.ht_disinfected_fraction/max_disinfection-tmp2.total_disinfected_fraction/max_disinfection),x = tmp2.duration,label = name)\n",
    "    plt.legend()\n",
    "    plt.xlabel('Experiment Duration (min)')\n",
    "    plt.ylabel('ht_fraction - total_fraction \\nasymptotic (n.d.)')\n",
    "    plt.ylim([-0.5,0.5])\n",
    "    plt.savefig('./media/semantic_results/{}.pdf'.format(title))\n",
    "    plt.show()"
   ]
  },
  {
   "cell_type": "markdown",
   "id": "f99986b4",
   "metadata": {},
   "source": [
    "# Plotting Code"
   ]
  },
  {
   "cell_type": "code",
   "execution_count": null,
   "id": "7802114f",
   "metadata": {},
   "outputs": [],
   "source": [
    "from glob import glob \n",
    "import pandas as pd\n",
    "from matplotlib import pyplot as plt\n",
    "\n",
    "all_meshes = glob('/home/motion//Optimized-UV-Disinfection/data/environment_meshes/aug_10_entire_val_ade20kmodel_vanilla_prob_weighting/estimated_scannet_val/*.ply')\n",
    "\n",
    "meshes_series = pd.Series(all_meshes)\n",
    "estimated_mask = ~meshes_series.str.split('/',expand = True).iloc[:,-1].str.startswith('gt')\n",
    "# we now get the number of done meshes\n",
    "\n",
    "# done_files = glob('/home/motion/Optimized-UV-Disinfection/3D_results/Semantic/*/{}/armbot/*'.format(experiment))\n",
    "# if(done_files):\n",
    "#     done_meshes = pd.Series(done_files).str.split('/',expand = True).iloc[:,-4].tolist()\n",
    "# else:\n",
    "#     done_meshes = []\n",
    "\n",
    "estimated_meshes = sorted(meshes_series[estimated_mask].tolist())"
   ]
  },
  {
   "cell_type": "markdown",
   "id": "29476018",
   "metadata": {},
   "source": [
    "# Plotting Code"
   ]
  },
  {
   "cell_type": "code",
   "execution_count": null,
   "id": "8b12aefc",
   "metadata": {},
   "outputs": [],
   "source": [
    "from glob import glob \n",
    "import pandas as pd\n",
    "from matplotlib import pyplot as plt\n",
    "\n",
    "all_meshes = glob('/home/motion//Optimized-UV-Disinfection/data/environment_meshes/aug_10_entire_val_ade20kmodel_vanilla_prob_weighting/estimated_scannet_val/*.ply')\n",
    "\n",
    "meshes_series = pd.Series(all_meshes)\n",
    "estimated_mask = ~meshes_series.str.split('/',expand = True).iloc[:,-1].str.startswith('gt')\n",
    "# we now get the number of done meshes\n",
    "\n",
    "# done_files = glob('/home/motion/Optimized-UV-Disinfection/3D_results/Semantic/*/{}/armbot/*'.format(experiment))\n",
    "# if(done_files):\n",
    "#     done_meshes = pd.Series(done_files).str.split('/',expand = True).iloc[:,-4].tolist()\n",
    "# else:\n",
    "#     done_meshes = []\n",
    "\n",
    "estimated_meshes = sorted(meshes_series[estimated_mask].tolist())"
   ]
  },
  {
   "cell_type": "code",
   "execution_count": null,
   "id": "852986d0",
   "metadata": {},
   "outputs": [],
   "source": [
    "a = ['this is bullshit {}','this is super bullshit {}']\n",
    "b = a[0].format(12)\n",
    "a"
   ]
  },
  {
   "cell_type": "code",
   "execution_count": null,
   "id": "fa171d31",
   "metadata": {},
   "outputs": [],
   "source": [
    "import pandas as pd\n",
    "df = pd.read_csv('./Semantic_results_shorter_time.csv',sep = '|')"
   ]
  },
  {
   "cell_type": "code",
   "execution_count": null,
   "id": "0877bde0",
   "metadata": {},
   "outputs": [],
   "source": [
    "tmp = df.experiment.str.split('_',expand = True)\n",
    "names = tmp.loc[:,0] + '_' + tmp.loc[:,1]\n",
    "names[names.str.startswith('hard')] += '_' + tmp.loc[names.str.startswith('hard'),2]\n",
    "df['experiment_names'] = names\n",
    "\n",
    "df2 = df[df.duration < 100]\n",
    "max_disinf = df2.groupby(['mesh_name']).total_disinfected_fraction.max()"
   ]
  },
  {
   "cell_type": "code",
   "execution_count": null,
   "id": "8709e50a",
   "metadata": {},
   "outputs": [],
   "source": [
    "for tmp in df2.groupby('mesh_name'):\n",
    "    room_name = tmp[0]\n",
    "    max_disinfection = max_disinf[room_name]\n",
    "    title = 'HT uplift vs experiment duration {}'.format(tmp[0])\n",
    "    plt.title(title)\n",
    "    tmp = tmp[1]\n",
    "    for tmp2 in tmp.groupby('experiment_names'):\n",
    "        name = tmp2[0]\n",
    "        tmp2 = tmp2[1]\n",
    "        plt.scatter(y = (tmp2.ht_disinfected_fraction/max_disinfection-tmp2.total_disinfected_fraction/max_disinfection),x = tmp2.duration,label = name)\n",
    "    plt.legend()\n",
    "    plt.xlabel('Experiment Duration (min)')\n",
    "    plt.ylabel('ht_fraction - total_fraction \\nasymptotic (n.d.)')\n",
    "    plt.ylim([-0.1,0.1])\n",
    "    plt.savefig('./media/semantic_results/{}.pdf'.format(title))\n",
    "    plt.show()"
   ]
  },
  {
   "cell_type": "markdown",
   "id": "8a79ed4c",
   "metadata": {},
   "source": [
    "# Mesh ordering"
   ]
  },
  {
   "cell_type": "code",
   "execution_count": null,
   "id": "78135ffd",
   "metadata": {},
   "outputs": [],
   "source": [
    "from glob import glob\n",
    "import trimesh as tm\n",
    "from tqdm import tqdm\n",
    "import pandas as pd\n",
    "from alphashape import alphashape\n",
    "import shapely\n",
    "from joblib import Parallel,delayed\n",
    "def get_maximum_connected_component_mesh(mesh_file):\n",
    "    full_mesh = tm.exchange.load.load(mesh_file)\n",
    "    # full_mesh.show()\n",
    "    conn_components = tm.graph.split(full_mesh, only_watertight = False)\n",
    "    max_faces = 0\n",
    "    for component in conn_components:\n",
    "        if(component.faces.shape[0]>max_faces):\n",
    "            max_faces = component.faces.shape[0]\n",
    "            maximum_connected_component  = component\n",
    "    return maximum_connected_component\n",
    "\n",
    "def get_floorplan_area(mesh_file):\n",
    "    mesh = get_maximum_connected_component_mesh(mesh_file)\n",
    "    projection = mesh.vertices[mesh.vertices[:,2]<0.1,:2]\n",
    "    alpha_shape = alphashape(projection,10)\n",
    "    # if the alpha_shape is a multipoligon, we get its component with largest area\n",
    "    if(type(alpha_shape) == shapely.geometry.multipolygon.MultiPolygon):\n",
    "        max_area = 0\n",
    "        for shape in alpha_shape:\n",
    "            if(shape.area>max_area):\n",
    "                max_area = shape.area\n",
    "                final_shape = shape\n",
    "        alpha_shape = final_shape\n",
    "    bounds = alpha_shape.bounds\n",
    "    return alpha_shape,alpha_shape.area,mesh"
   ]
  },
  {
   "cell_type": "code",
   "execution_count": null,
   "id": "79460686",
   "metadata": {},
   "outputs": [],
   "source": [
    "a,aa,mesh = get_floorplan_area('/home/motion//Optimized-UV-Disinfection/data/environment_meshes/aug_10_entire_val_ade20kmodel_vanilla_prob_weighting/estimated_scannet_val/scene0187_00.ply')"
   ]
  },
  {
   "cell_type": "code",
   "execution_count": null,
   "id": "58bbe094",
   "metadata": {},
   "outputs": [],
   "source": [
    "a"
   ]
  },
  {
   "cell_type": "code",
   "execution_count": null,
   "id": "0c25b8b6",
   "metadata": {},
   "outputs": [],
   "source": [
    "mesh.show()"
   ]
  },
  {
   "cell_type": "code",
   "execution_count": null,
   "id": "14eeb2be",
   "metadata": {},
   "outputs": [],
   "source": [
    "all_meshes = sorted(glob('/home/motion//Optimized-UV-Disinfection/data/environment_meshes/aug_10_entire_val_ade20kmodel_vanilla_prob_weighting/estimated_scannet_val/*.ply'))\n",
    "areas = []\n",
    "for mesh in tqdm(all_meshes):\n",
    "    areas.append(get_floorplan_area(mesh))\n",
    "# result = Parallel(n_jobs = 2,verbose = 100)(delayed(get_floorplan_area)(mesh) for mesh in all_meshes)"
   ]
  },
  {
   "cell_type": "code",
   "execution_count": null,
   "id": "ea5e6c18",
   "metadata": {},
   "outputs": [],
   "source": [
    "areas_df = pd.DataFrame({\"mesh_file\":all_meshes,'floorplan_area':areas})"
   ]
  },
  {
   "cell_type": "code",
   "execution_count": null,
   "id": "4f15bfda",
   "metadata": {},
   "outputs": [],
   "source": [
    "sorted_areas = areas_df.sort_values(by = 'floorplan_area',ascending = False).reset_index(drop = True)"
   ]
  },
  {
   "cell_type": "code",
   "execution_count": null,
   "id": "cdcf6d78",
   "metadata": {},
   "outputs": [],
   "source": [
    "large_areas = sorted_areas.loc[sorted_areas.area>100,:]"
   ]
  },
  {
   "cell_type": "code",
   "execution_count": null,
   "id": "5dc6aab8",
   "metadata": {},
   "outputs": [],
   "source": [
    "b = tm.exchange.load.load('/home/motion/Surface_Aware_Disinfection/data/environment_meshes/remeshed_hospital_room_full_35k.obj')"
   ]
  },
  {
   "cell_type": "code",
   "execution_count": null,
   "id": "9d5a4dba",
   "metadata": {},
   "outputs": [],
   "source": [
    "sorted_areas.loc[sorted_areas.floorplan_area > 36,:]"
   ]
  },
  {
   "cell_type": "code",
   "execution_count": null,
   "id": "c019809d",
   "metadata": {},
   "outputs": [],
   "source": [
    "sorted_areas['mesh_names'] = sorted_areas.mesh_file.str.split('/',expand = True).iloc[:,-1]"
   ]
  },
  {
   "cell_type": "code",
   "execution_count": null,
   "id": "ea835029",
   "metadata": {},
   "outputs": [],
   "source": [
    "sorted_areas.to_csv('meshes_by_floorplan_area.csv', sep = '|', index = False)"
   ]
  },
  {
   "cell_type": "code",
   "execution_count": null,
   "id": "23c6d13f",
   "metadata": {},
   "outputs": [],
   "source": [
    "import pandas as pd\n",
    "a = pd.read_csv('meshes_by_floorplan_area.csv', sep = '|')\n",
    "\n",
    "b = a.loc[~a.mesh_names.str.startswith('gt'),:]"
   ]
  },
  {
   "cell_type": "code",
   "execution_count": null,
   "id": "d0560bf7",
   "metadata": {},
   "outputs": [],
   "source": [
    "b = a.loc[~a.mesh_names.str.startswith('gt'),:]\n",
    "len(b.loc[b.floorplan_area > 36,'mesh_file'].tolist())"
   ]
  },
  {
   "cell_type": "markdown",
   "id": "11a19ab4",
   "metadata": {},
   "source": [
    "# seeing failed meshes"
   ]
  },
  {
   "cell_type": "code",
   "execution_count": null,
   "id": "f1278e3d",
   "metadata": {},
   "outputs": [],
   "source": [
    "with open('./failed_meshes_floatbot.txt','r') as f:\n",
    "    k = f.read()\n",
    "import pandas as pd\n"
   ]
  },
  {
   "cell_type": "code",
   "execution_count": null,
   "id": "bc2756f5",
   "metadata": {},
   "outputs": [],
   "source": [
    "pd.Series(k.split('\\n')).value_counts()"
   ]
  },
  {
   "cell_type": "code",
   "execution_count": null,
   "id": "2e50f599",
   "metadata": {},
   "outputs": [],
   "source": [
    "df[~df.duration.str.isnumeric()].shape"
   ]
  },
  {
   "cell_type": "code",
   "execution_count": null,
   "id": "84567dea",
   "metadata": {},
   "outputs": [],
   "source": [
    "from glob import glob"
   ]
  },
  {
   "cell_type": "code",
   "execution_count": null,
   "id": "94e87661",
   "metadata": {},
   "outputs": [],
   "source": [
    "rm = pd.Series(glob('/home/motion/Surface_Aware_Disinfection/3D_results/Semantic/*/*/floatbot/floatbot_roadmap_330_divs.p'))"
   ]
  },
  {
   "cell_type": "code",
   "execution_count": null,
   "id": "cf22fbfa",
   "metadata": {},
   "outputs": [],
   "source": [
    "'hard_cutoff_50_15_minutes' not in rm.str.split('/',expand = True).iloc[:,7].values "
   ]
  },
  {
   "cell_type": "code",
   "execution_count": null,
   "id": "e6e26abc",
   "metadata": {},
   "outputs": [],
   "source": []
  }
 ],
 "metadata": {
  "kernelspec": {
   "display_name": "Python 3",
   "language": "python",
   "name": "python3"
  },
  "language_info": {
   "codemirror_mode": {
    "name": "ipython",
    "version": 3
   },
   "file_extension": ".py",
   "mimetype": "text/x-python",
   "name": "python",
   "nbconvert_exporter": "python",
   "pygments_lexer": "ipython3",
   "version": "3.8.10"
  },
  "toc": {
   "base_numbering": 1,
   "nav_menu": {},
   "number_sections": true,
   "sideBar": true,
   "skip_h1_title": false,
   "title_cell": "Table of Contents",
   "title_sidebar": "Contents",
   "toc_cell": false,
   "toc_position": {},
   "toc_section_display": true,
   "toc_window_display": false
  }
 },
 "nbformat": 4,
 "nbformat_minor": 5
}
