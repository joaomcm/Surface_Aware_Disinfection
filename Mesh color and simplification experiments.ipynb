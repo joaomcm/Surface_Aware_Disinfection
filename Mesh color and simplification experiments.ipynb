{
 "cells": [
  {
   "cell_type": "markdown",
   "metadata": {},
   "source": [
    "# Evaluation Code"
   ]
  },
  {
   "cell_type": "code",
   "execution_count": 1,
   "metadata": {},
   "outputs": [],
   "source": [
    "import pandas as pd\n",
    "from visibility import Visibility\n",
    "from glob import glob\n",
    "import trimesh as tm\n",
    "import pickle\n",
    "import os\n",
    "import numpy as np\n",
    "from scipy.sparse import lil_matrix\n",
    "from tqdm import tqdm\n",
    "\n",
    "mesh_base_dir = '/data/scannet_subset_all_gt'\n",
    "code_base_dir = os.getcwd()\n",
    "\n",
    "def get_irradiance_matrix(vis_tester,sampling_places):\n",
    "    total_faces = vis_tester.mesh.mesh.faces.shape[0]\n",
    "    irradiance_matrix = lil_matrix((sampling_places.shape[0],total_faces))\n",
    "    for i in range(sampling_places.shape[0]):\n",
    "        _,irradiance = vis_tester.render(id0 =None,id1 = None,pos = sampling_places[i,:].tolist())\n",
    "        irradiance = irradiance\n",
    "        irradiance_matrix[i,np.where(irradiance > 0)] = irradiance[irradiance > 0]\n",
    "\n",
    "    return irradiance_matrix.tocsr()\n",
    "\n",
    "def evaluate_semantic_disinfection_performance(roadmap):\n",
    "    mesh_name = roadmap.split('/')[-4]\n",
    "    # we then load the mesh original mesh and its ground truth:\n",
    "    mesh_gt_file = os.path.join(mesh_base_dir, 'gt_{}.ply'.format(mesh_name))\n",
    "    ground_truth_visibility = Visibility(mesh_gt_file,res = 512, useShader = True,createWnd = True)\n",
    "    main_dir = os.path.dirname(roadmap)\n",
    "    reachable_file = os.path.join(main_dir,'armbot_reachable_330_divs.p')\n",
    "    solutions_file = os.path.join(main_dir,'armbot_solutions_330_divs.p')\n",
    "    sampling_places_file = os.path.join(main_dir,'armbot_sampling_places_330_divs.p')\n",
    "\n",
    "    reachable = pickle.load(open(reachable_file,'rb'))\n",
    "    solutions = np.array(pickle.load(open(solutions_file,'rb'))[0])\n",
    "    sampling_places = pickle.load(open(sampling_places_file,'rb'))\n",
    "\n",
    "    selected_points = sampling_places[reachable,:][solutions>0,:]\n",
    "    irradiance_matrix = get_irradiance_matrix(ground_truth_visibility,selected_points)\n",
    "\n",
    "    gt_mesh = ground_truth_visibility.mesh.mesh\n",
    "    final_irradiances = 80*irradiance_matrix.transpose()@solutions[solutions>0]\n",
    "    areas = gt_mesh.area_faces\n",
    "    colors = gt_mesh.visual.face_colors\n",
    "    label = colors[:,0] >= 255\n",
    "    disinfected = final_irradiances > 280\n",
    "    total_ht_area = np.sum(areas[label])\n",
    "    total_area = np.sum(areas)\n",
    "    disinfected_ht_area = np.sum(areas[label][disinfected[label]])\n",
    "    disinfected_area = np.sum(areas[disinfected])\n",
    "    ht_area_fraction = total_ht_area/total_area\n",
    "    return mesh_name,total_area,ht_area_fraction,disinfected_ht_area/total_ht_area,disinfected_area/total_area\n",
    "\n",
    "\n",
    "\n",
    "sa_roadmap = sorted(glob('/data/Surface_Aware_Disinfection/3D_results/Semantic/*/surface_agnostic/armbot/armbot_roadmap_330_divs.p'))\n",
    "\n",
    "sst_roadmap = sorted(glob('/data/Surface_Aware_Disinfection/3D_results/Semantic/*/soft_semantic_thresholding/armbot/armbot_roadmap_330_divs.p'))\n"
   ]
  },
  {
   "cell_type": "code",
   "execution_count": 2,
   "metadata": {},
   "outputs": [],
   "source": [
    "# result = evaluate_semantic_disinfection_performance(sst_roadmap[0])"
   ]
  },
  {
   "cell_type": "code",
   "execution_count": 3,
   "metadata": {},
   "outputs": [
    {
     "name": "stdout",
     "output_type": "stream",
     "text": [
      "['/data/Surface_Aware_Disinfection/3D_results/Semantic/scene0015_00/hard_cutoff_50_1_minutes/armbot/armbot_roadmap_330_divs.p', '/data/Surface_Aware_Disinfection/3D_results/Semantic/scene0015_00/surface_agnostic_1_minutes/armbot/armbot_roadmap_330_divs.p']\n"
     ]
    }
   ],
   "source": [
    "roadmaps = sorted(glob('/data/Surface_Aware_Disinfection/3D_results/Semantic/*/*/armbot/armbot_roadmap_330_divs.p'))\n",
    "print(roadmaps)"
   ]
  },
  {
   "cell_type": "code",
   "execution_count": 4,
   "metadata": {},
   "outputs": [
    {
     "name": "stderr",
     "output_type": "stream",
     "text": [
      "100%|██████████| 42/42 [00:06<00:00,  6.01it/s]\n",
      "100%|██████████| 53/53 [00:08<00:00,  6.53it/s]\n"
     ]
    }
   ],
   "source": [
    "mesh_names = []\n",
    "experiments = []\n",
    "durations = []\n",
    "total_areas = []\n",
    "ht_area_fractions = []\n",
    "ht_disinfected_fraction = []\n",
    "total_disinfected_fraction = []\n",
    "old_mesh = ''\n",
    "for rm in tqdm(roadmaps):\n",
    "    experiment = rm.split('/')[-3]\n",
    "    duration = experiment.split('_')[-2]\n",
    "    experiments.append(experiment)\n",
    "    durations.append(duration)\n",
    "    results = evaluate_semantic_disinfection_performance(rm)\n",
    "    mesh_names.append(results[0])\n",
    "    total_areas.append(results[1])\n",
    "    ht_area_fractions.append(results[2])\n",
    "    ht_disinfected_fraction.append(results[3])\n",
    "    total_disinfected_fraction.append(results[4])\n",
    "results_df = pd.DataFrame({'mesh_name':mesh_names,'experiment':experiments,'duration':durations,'room area':total_areas,\n",
    "                          'ht_area_fraction':ht_area_fractions,'ht_disinfected_fraction':ht_disinfected_fraction,'total_disinfected_fraction':total_disinfected_fraction})"
   ]
  },
  {
   "cell_type": "code",
   "execution_count": 5,
   "metadata": {},
   "outputs": [],
   "source": [
    "results_df.to_csv('./Semantic_results_shorter_time.csv',sep = '|')"
   ]
  },
  {
   "cell_type": "code",
   "execution_count": 6,
   "metadata": {},
   "outputs": [
    {
     "data": {
      "text/html": [
       "<div>\n",
       "<style scoped>\n",
       "    .dataframe tbody tr th:only-of-type {\n",
       "        vertical-align: middle;\n",
       "    }\n",
       "\n",
       "    .dataframe tbody tr th {\n",
       "        vertical-align: top;\n",
       "    }\n",
       "\n",
       "    .dataframe thead th {\n",
       "        text-align: right;\n",
       "    }\n",
       "</style>\n",
       "<table border=\"1\" class=\"dataframe\">\n",
       "  <thead>\n",
       "    <tr style=\"text-align: right;\">\n",
       "      <th></th>\n",
       "      <th>mesh_name</th>\n",
       "      <th>experiment</th>\n",
       "      <th>duration</th>\n",
       "      <th>room area</th>\n",
       "      <th>ht_area_fraction</th>\n",
       "      <th>ht_disinfected_fraction</th>\n",
       "      <th>total_disinfected_fraction</th>\n",
       "    </tr>\n",
       "  </thead>\n",
       "  <tbody>\n",
       "    <tr>\n",
       "      <th>0</th>\n",
       "      <td>scene0015_00</td>\n",
       "      <td>hard_cutoff_50_1_minutes</td>\n",
       "      <td>1</td>\n",
       "      <td>71.99769</td>\n",
       "      <td>0.298541</td>\n",
       "      <td>0.500636</td>\n",
       "      <td>0.540839</td>\n",
       "    </tr>\n",
       "    <tr>\n",
       "      <th>1</th>\n",
       "      <td>scene0015_00</td>\n",
       "      <td>surface_agnostic_1_minutes</td>\n",
       "      <td>1</td>\n",
       "      <td>71.99769</td>\n",
       "      <td>0.298541</td>\n",
       "      <td>0.444880</td>\n",
       "      <td>0.563703</td>\n",
       "    </tr>\n",
       "  </tbody>\n",
       "</table>\n",
       "</div>"
      ],
      "text/plain": [
       "      mesh_name                  experiment duration  room area  \\\n",
       "0  scene0015_00    hard_cutoff_50_1_minutes        1   71.99769   \n",
       "1  scene0015_00  surface_agnostic_1_minutes        1   71.99769   \n",
       "\n",
       "   ht_area_fraction  ht_disinfected_fraction  total_disinfected_fraction  \n",
       "0          0.298541                 0.500636                    0.540839  \n",
       "1          0.298541                 0.444880                    0.563703  "
      ]
     },
     "execution_count": 6,
     "metadata": {},
     "output_type": "execute_result"
    }
   ],
   "source": [
    "results_df"
   ]
  },
  {
   "cell_type": "code",
   "execution_count": 7,
   "metadata": {
    "scrolled": true
   },
   "outputs": [
    {
     "data": {
      "text/html": [
       "<div>\n",
       "<style scoped>\n",
       "    .dataframe tbody tr th:only-of-type {\n",
       "        vertical-align: middle;\n",
       "    }\n",
       "\n",
       "    .dataframe tbody tr th {\n",
       "        vertical-align: top;\n",
       "    }\n",
       "\n",
       "    .dataframe thead th {\n",
       "        text-align: right;\n",
       "    }\n",
       "</style>\n",
       "<table border=\"1\" class=\"dataframe\">\n",
       "  <thead>\n",
       "    <tr style=\"text-align: right;\">\n",
       "      <th></th>\n",
       "      <th>mesh_name</th>\n",
       "      <th>experiment</th>\n",
       "      <th>duration</th>\n",
       "      <th>room area</th>\n",
       "      <th>ht_area_fraction</th>\n",
       "      <th>ht_disinfected_fraction</th>\n",
       "      <th>total_disinfected_fraction</th>\n",
       "    </tr>\n",
       "  </thead>\n",
       "  <tbody>\n",
       "  </tbody>\n",
       "</table>\n",
       "</div>"
      ],
      "text/plain": [
       "Empty DataFrame\n",
       "Columns: [mesh_name, experiment, duration, room area, ht_area_fraction, ht_disinfected_fraction, total_disinfected_fraction]\n",
       "Index: []"
      ]
     },
     "execution_count": 7,
     "metadata": {},
     "output_type": "execute_result"
    }
   ],
   "source": [
    "results_df.loc[results_df.mesh_name == 'scene0011_00']"
   ]
  },
  {
   "cell_type": "code",
   "execution_count": 8,
   "metadata": {},
   "outputs": [
    {
     "data": {
      "image/png": "[encoded data removed]",
      "text/plain": [
       "<Figure size 432x288 with 1 Axes>"
      ]
     },
     "metadata": {
      "needs_background": "light"
     },
     "output_type": "display_data"
    }
   ],
   "source": [
    "import pandas as pd\n",
    "import matplotlib.pyplot as plt\n",
    "\n",
    "df = pd.read_csv('./Semantic_results.csv',sep = '|')\n",
    "\n",
    "tmp = df.experiment.str.split('_',expand = True)\n",
    "names = tmp.loc[:,0] + '_' + tmp.loc[:,1]\n",
    "names[names.str.startswith('hard')] += '_' + tmp.loc[names.str.startswith('hard'),2]\n",
    "df['experiment_names'] = names\n",
    "\n",
    "df2 = df[df.duration < 100]\n",
    "max_disinf = df2.groupby(['mesh_name']).total_disinfected_fraction.max()\n",
    "\n",
    "for tmp in df2.groupby('mesh_name'):\n",
    "    room_name = tmp[0]\n",
    "    max_disinfection = max_disinf[room_name]\n",
    "    title = 'Normalized total disinfected fraction {}'.format(tmp[0])\n",
    "    plt.title(title)\n",
    "    tmp = tmp[1]\n",
    "    for tmp2 in tmp.groupby('experiment_names'):\n",
    "        name = tmp2[0]\n",
    "        tmp2 = tmp2[1]\n",
    "        plt.scatter(y = (tmp2.total_disinfected_fraction/max_disinfection),x = tmp2.duration,label = name)\n",
    "    plt.legend()\n",
    "    plt.xlabel('Experiment Duration (min)')\n",
    "    plt.ylabel('total_fraction \\nasymptotic (n.d.)')\n",
    "    plt.ylim([0.3,1.2])\n",
    "    plt.savefig('./media/semantic_results/{}.pdf'.format(title))\n",
    "    plt.show()"
   ]
  },
  {
   "cell_type": "code",
   "execution_count": 9,
   "metadata": {},
   "outputs": [
    {
     "data": {
      "image/png": "[encoded data removed]",
      "text/plain": [
       "<Figure size 432x288 with 1 Axes>"
      ]
     },
     "metadata": {
      "needs_background": "light"
     },
     "output_type": "display_data"
    }
   ],
   "source": [
    "import pandas as pd\n",
    "import matplotlib.pyplot as plt\n",
    "\n",
    "df = pd.read_csv('./Semantic_results.csv',sep = '|')\n",
    "\n",
    "tmp = df.experiment.str.split('_',expand = True)\n",
    "names = tmp.loc[:,0] + '_' + tmp.loc[:,1]\n",
    "names[names.str.startswith('hard')] += '_' + tmp.loc[names.str.startswith('hard'),2]\n",
    "df['experiment_names'] = names\n",
    "\n",
    "df2 = df[df.duration < 100]\n",
    "max_disinf = df2.groupby(['mesh_name']).total_disinfected_fraction.max()\n",
    "\n",
    "for tmp in df2.groupby('mesh_name'):\n",
    "    room_name = tmp[0]\n",
    "    max_disinfection = max_disinf[room_name]\n",
    "    title = 'Normalized GT disinfected fraction {}'.format(tmp[0])\n",
    "    plt.title(title)\n",
    "    tmp = tmp[1]\n",
    "    for tmp2 in tmp.groupby('experiment_names'):\n",
    "        name = tmp2[0]\n",
    "        tmp2 = tmp2[1]\n",
    "        plt.scatter(y = (tmp2.ht_disinfected_fraction/max_disinfection),x = tmp2.duration,label = name)\n",
    "    plt.legend()\n",
    "    plt.xlabel('Experiment Duration (min)')\n",
    "    plt.ylabel('total_fraction \\nasymptotic (n.d.)')\n",
    "    plt.ylim([0,1.2])\n",
    "    plt.savefig('./media/semantic_results/{}.pdf'.format(title))\n",
    "    plt.show()"
   ]
  },
  {
   "cell_type": "code",
   "execution_count": 11,
   "metadata": {},
   "outputs": [
    {
     "data": {
      "image/png": "[encoded data removed]",
      "text/plain": [
       "<Figure size 432x288 with 1 Axes>"
      ]
     },
     "metadata": {
      "needs_background": "light"
     },
     "output_type": "display_data"
    }
   ],
   "source": [
    "\n",
    "for tmp in df2.groupby('mesh_name'):\n",
    "    room_name = tmp[0]\n",
    "    max_disinfection = max_disinf[room_name]\n",
    "    title = 'HT uplift vs experiment duration {}'.format(tmp[0])\n",
    "    plt.title(title)\n",
    "    tmp = tmp[1]\n",
    "    for tmp2 in tmp.groupby('experiment_names'):\n",
    "        name = tmp2[0]\n",
    "        tmp2 = tmp2[1]\n",
    "        plt.scatter(y = (tmp2.ht_disinfected_fraction/max_disinfection-tmp2.total_disinfected_fraction/max_disinfection),x = tmp2.duration,label = name)\n",
    "    plt.legend()\n",
    "    plt.xlabel('Experiment Duration (min)')\n",
    "    plt.ylabel('ht_fraction - total_fraction \\nasymptotic (n.d.)')\n",
    "    plt.ylim([-0.5,0.5])\n",
    "    plt.savefig('./media/semantic_results/{}.pdf'.format(title))\n",
    "    plt.show()"
   ]
  },
  {
   "cell_type": "markdown",
   "metadata": {},
   "source": [
    "# Plotting Code"
   ]
  },
  {
   "cell_type": "code",
   "execution_count": null,
   "metadata": {},
   "outputs": [],
   "source": [
    "from glob import glob \n",
    "import pandas as pd\n",
    "from matplotlib import pyplot as plt\n",
    "\n",
    "all_meshes = glob('/home/motion//Optimized-UV-Disinfection/data/environment_meshes/aug_10_entire_val_ade20kmodel_vanilla_prob_weighting/estimated_scannet_val/*.ply')\n",
    "\n",
    "meshes_series = pd.Series(all_meshes)\n",
    "estimated_mask = ~meshes_series.str.split('/',expand = True).iloc[:,-1].str.startswith('gt')\n",
    "# we now get the number of done meshes\n",
    "\n",
    "# done_files = glob('/home/motion/Optimized-UV-Disinfection/3D_results/Semantic/*/{}/armbot/*'.format(experiment))\n",
    "# if(done_files):\n",
    "#     done_meshes = pd.Series(done_files).str.split('/',expand = True).iloc[:,-4].tolist()\n",
    "# else:\n",
    "#     done_meshes = []\n",
    "\n",
    "estimated_meshes = sorted(meshes_series[estimated_mask].tolist())"
   ]
  },
  {
   "cell_type": "code",
   "execution_count": null,
   "metadata": {},
   "outputs": [],
   "source": [
    "a = ['this is bullshit {}','this is super bullshit {}']\n",
    "b = a[0].format(12)\n",
    "a"
   ]
  },
  {
   "cell_type": "code",
   "execution_count": null,
   "metadata": {},
   "outputs": [],
   "source": [
    "import pandas as pd\n",
    "df = pd.read_csv('./Semantic_results_shorter_time.csv',sep = '|')"
   ]
  },
  {
   "cell_type": "code",
   "execution_count": null,
   "metadata": {},
   "outputs": [],
   "source": [
    "tmp = df.experiment.str.split('_',expand = True)\n",
    "names = tmp.loc[:,0] + '_' + tmp.loc[:,1]\n",
    "names[names.str.startswith('hard')] += '_' + tmp.loc[names.str.startswith('hard'),2]\n",
    "df['experiment_names'] = names\n",
    "\n",
    "df2 = df[df.duration < 100]\n",
    "max_disinf = df2.groupby(['mesh_name']).total_disinfected_fraction.max()"
   ]
  },
  {
   "cell_type": "code",
   "execution_count": null,
   "metadata": {},
   "outputs": [],
   "source": [
    "for tmp in df2.groupby('mesh_name'):\n",
    "    room_name = tmp[0]\n",
    "    max_disinfection = max_disinf[room_name]\n",
    "    title = 'HT uplift vs experiment duration {}'.format(tmp[0])\n",
    "    plt.title(title)\n",
    "    tmp = tmp[1]\n",
    "    for tmp2 in tmp.groupby('experiment_names'):\n",
    "        name = tmp2[0]\n",
    "        tmp2 = tmp2[1]\n",
    "        plt.scatter(y = (tmp2.ht_disinfected_fraction/max_disinfection-tmp2.total_disinfected_fraction/max_disinfection),x = tmp2.duration,label = name)\n",
    "    plt.legend()\n",
    "    plt.xlabel('Experiment Duration (min)')\n",
    "    plt.ylabel('ht_fraction - total_fraction \\nasymptotic (n.d.)')\n",
    "    plt.ylim([-0.1,0.1])\n",
    "    plt.savefig('./media/semantic_results/{}.pdf'.format(title))\n",
    "    plt.show()"
   ]
  },
  {
   "cell_type": "code",
   "execution_count": null,
   "metadata": {},
   "outputs": [],
   "source": [
    "tmp"
   ]
  }
 ],
 "metadata": {
  "kernelspec": {
   "display_name": "Python 3",
   "language": "python",
   "name": "python3"
  },
  "language_info": {
   "codemirror_mode": {
    "name": "ipython",
    "version": 3
   },
   "file_extension": ".py",
   "mimetype": "text/x-python",
   "name": "python",
   "nbconvert_exporter": "python",
   "pygments_lexer": "ipython3",
   "version": "3.8.5"
  },
  "toc": {
   "base_numbering": 1,
   "nav_menu": {},
   "number_sections": true,
   "sideBar": true,
   "skip_h1_title": false,
   "title_cell": "Table of Contents",
   "title_sidebar": "Contents",
   "toc_cell": false,
   "toc_position": {},
   "toc_section_display": true,
   "toc_window_display": false
  }
 },
 "nbformat": 4,
 "nbformat_minor": 5
}
